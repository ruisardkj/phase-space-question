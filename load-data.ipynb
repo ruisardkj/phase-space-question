{
 "cells": [
  {
   "cell_type": "markdown",
   "id": "88522644-ae11-489e-b739-9f38a1ba487b",
   "metadata": {},
   "source": [
    "# load data \n",
    "data produced by 2D phase space measurement at the BTF\n",
    "\n",
    "- 1st column is x1 (position of upstream slit)\n",
    "- 2nd column is x2 (position of downstream slit)\n",
    "- 3rd column is beamstop current"
   ]
  },
  {
   "cell_type": "code",
   "execution_count": 5,
   "id": "18011efe-0ece-4843-b54c-76ab01265d74",
   "metadata": {},
   "outputs": [],
   "source": [
    "import numpy as np\n",
    "\n",
    "data = np.loadtxt('psdata.csv',delimiter=',')"
   ]
  },
  {
   "cell_type": "markdown",
   "id": "789d525b-0c23-4d8e-81e9-9e004cc3f5a5",
   "metadata": {
    "tags": []
   },
   "source": [
    "# Task 1: plot raw data "
   ]
  },
  {
   "cell_type": "code",
   "execution_count": null,
   "id": "0f14677f-a9bd-4502-8e4f-747ca3f4df16",
   "metadata": {},
   "outputs": [],
   "source": []
  },
  {
   "cell_type": "markdown",
   "id": "ec62f859-5268-4e56-930b-afedfb8ab3f5",
   "metadata": {},
   "source": [
    "# Task 2: determine background level"
   ]
  },
  {
   "cell_type": "code",
   "execution_count": null,
   "id": "1df360de-0054-4e2a-afb3-e9d07ef10728",
   "metadata": {},
   "outputs": [],
   "source": []
  },
  {
   "cell_type": "markdown",
   "id": "c38d6ed4-8f83-4e6c-8bcd-f028591e9cd6",
   "metadata": {},
   "source": [
    "# Task 3: calculate distribution parameters\n",
    "\n",
    "- center of beam in x1, x2 coordinates\n"
   ]
  },
  {
   "cell_type": "code",
   "execution_count": null,
   "id": "46765261-f575-4774-a61e-853807014c48",
   "metadata": {},
   "outputs": [],
   "source": []
  },
  {
   "cell_type": "markdown",
   "id": "351acd84-5203-4dfb-a98e-f05f558a6a45",
   "metadata": {},
   "source": [
    "- transform x1,x2 to x,x' (with (0,0) at beam center)\n"
   ]
  },
  {
   "cell_type": "markdown",
   "id": "9158e893-d8f5-4e7b-8832-4161a7ea0ed4",
   "metadata": {},
   "source": [
    "- rms sizes $<x>$, $<x'>$"
   ]
  },
  {
   "cell_type": "markdown",
   "id": "26ce055c-d70f-4d0e-a73b-909ae10903bc",
   "metadata": {},
   "source": [
    "# Task 4: interpolate and plot\n",
    "Interpolate onto regular grid in (x,x') and plot 2D distribution f(x,x')"
   ]
  },
  {
   "cell_type": "code",
   "execution_count": null,
   "id": "2f45e94b-11bd-4e9a-8289-9d677aafe55a",
   "metadata": {},
   "outputs": [],
   "source": []
  }
 ],
 "metadata": {
  "kernelspec": {
   "display_name": "Python 3 (ipykernel)",
   "language": "python",
   "name": "python3"
  },
  "language_info": {
   "codemirror_mode": {
    "name": "ipython",
    "version": 3
   },
   "file_extension": ".py",
   "mimetype": "text/x-python",
   "name": "python",
   "nbconvert_exporter": "python",
   "pygments_lexer": "ipython3",
   "version": "3.9.20"
  }
 },
 "nbformat": 4,
 "nbformat_minor": 5
}
